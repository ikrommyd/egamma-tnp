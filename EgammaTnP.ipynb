{
 "cells": [
  {
   "cell_type": "code",
   "execution_count": null,
   "id": "ac019152-3b1f-40e7-b09b-f40390052972",
   "metadata": {
    "tags": []
   },
   "outputs": [],
   "source": [
    "import mplhep as hep\n",
    "import uproot\n",
    "from egamma_tnp.triggers import ElePt_WPTight_Gsf\n",
    "from egamma_tnp.plot import plot_efficiency\n",
    "from matplotlib import pyplot as plt\n",
    "\n",
    "hep.style.use(\"CMS\")\n",
    "hep.style.use({\"font.size\": 16})\n",
    "hep.style.use({\"figure.figsize\": (6.4, 4.8)})"
   ]
  },
  {
   "cell_type": "code",
   "execution_count": null,
   "id": "2e8c45a9-5c13-457b-a4a8-d985fd499c13",
   "metadata": {},
   "outputs": [],
   "source": [
    "from distributed import Client\n",
    "\n",
    "# from lpcjobqueue import LPCCondorCluster\n",
    "\n",
    "# cluster = LPCCondorCluster(ship_env=True)\n",
    "# cluster.adapt(minimum=1, maximum=100)\n",
    "client = Client()"
   ]
  },
  {
   "cell_type": "code",
   "execution_count": null,
   "id": "af0fcf1d",
   "metadata": {
    "tags": []
   },
   "outputs": [],
   "source": [
    "%%time\n",
    "\n",
    "tag_n_probe = ElePt_WPTight_Gsf(\n",
    "    [\"root_files/Egamma1.root\"],\n",
    "    32,\n",
    "    goldenjson=\"json/Cert_Collisions2023_366442_370790_Golden.json\",\n",
    "    toquery=False,\n",
    "    redirect=False,\n",
    "    preprocess=True,\n",
    "    preprocess_args={\"maybe_step_size\": 500_000},\n",
    ")\n",
    "\n",
    "tag_n_probe.load_events(from_root_args={\"uproot_options\": {\"timeout\": 60}})\n",
    "tag_n_probe"
   ]
  },
  {
   "cell_type": "code",
   "execution_count": null,
   "id": "43aa5ac6",
   "metadata": {},
   "outputs": [],
   "source": [
    "%%time\n",
    "\n",
    "(\n",
    "    hpt_pass,\n",
    "    hpt_all,\n",
    "    heta_pass,\n",
    "    heta_all,\n",
    "    hphi_pass,\n",
    "    hphi_all,\n",
    ") = tag_n_probe.get_tnp_histograms(compute=True, scheduler=None, progress=True)\n",
    "\n",
    "print(f\"Passing probes: {hpt_pass.sum(flow=True)}\")\n",
    "print(f\"All probes: {hpt_all.sum(flow=True)}\")"
   ]
  },
  {
   "cell_type": "code",
   "execution_count": null,
   "id": "e13fb8b4-a62f-4a4a-aaef-d65304c2c35b",
   "metadata": {},
   "outputs": [],
   "source": [
    "with uproot.recreate(\"root_files/histograms.root\") as file:\n",
    "    file[\"hpt_pass\"] = hpt_pass\n",
    "    file[\"hpt_all\"] = hpt_all\n",
    "    file[\"heta_pass\"] = heta_pass\n",
    "    file[\"heta_all\"] = heta_all\n",
    "    file[\"hphi_pass\"] = hphi_pass\n",
    "    file[\"hphi_all\"] = hphi_all"
   ]
  },
  {
   "cell_type": "code",
   "execution_count": null,
   "id": "22656c4a-cb24-4552-875f-5ec8caff2c06",
   "metadata": {},
   "outputs": [],
   "source": [
    "with uproot.open(\"root_files/histograms.root\") as file:\n",
    "    hpt_pass = file[\"hpt_pass\"].to_hist()\n",
    "    hpt_all = file[\"hpt_all\"].to_hist()\n",
    "    heta_pass = file[\"heta_pass\"].to_hist()\n",
    "    heta_all = file[\"heta_all\"].to_hist()\n",
    "    hphi_pass = file[\"hphi_pass\"].to_hist()\n",
    "    hphi_all = file[\"hphi_all\"].to_hist()\n",
    "\n",
    "print(f\"Passing probes: {hpt_pass.sum(flow=True)}\")\n",
    "print(f\"All probes: {hpt_all.sum(flow=True)}\")"
   ]
  },
  {
   "cell_type": "code",
   "execution_count": null,
   "id": "c5d4ab43-c7dc-4ee8-9629-03aec913d322",
   "metadata": {},
   "outputs": [],
   "source": [
    "print(hpt_pass.values(flow=True))\n",
    "print(hpt_all.values(flow=True))\n",
    "print(heta_pass.values(flow=True))\n",
    "print(heta_all.values(flow=True))\n",
    "print(hphi_pass.values(flow=True))\n",
    "print(hphi_all.values(flow=True))\n",
    "\n",
    "print(f\"Passing probes: {hpt_pass.sum(flow=True)}\")\n",
    "print(f\"All probes: {hpt_all.sum(flow=True)}\")"
   ]
  },
  {
   "cell_type": "code",
   "execution_count": null,
   "id": "dc7ff5b8-3451-4e73-8310-85e1a350b5f1",
   "metadata": {},
   "outputs": [],
   "source": [
    "hpt_pass.plot1d(label=\"passing probes\", flow=\"none\")\n",
    "hpt_all.plot1d(label=\"all probes\", flow=\"none\")\n",
    "plt.xlim(5, 400)\n",
    "plt.xlabel(r\"$P_T$ [GeV]\")\n",
    "plt.ylabel(r\"Counts\")\n",
    "plt.legend()\n",
    "plt.savefig(\"plots/pt.pdf\", bbox_inches=\"tight\")\n",
    "hep.cms.label(\"Preliminary\", data=True, lumi=\"X\", year=2023, com=13.6)\n",
    "plt.show()"
   ]
  },
  {
   "cell_type": "code",
   "execution_count": null,
   "id": "8daaba11-6bd4-421b-9e1d-cf959e44e40a",
   "metadata": {},
   "outputs": [],
   "source": [
    "heta_pass.plot1d(label=\"passing probes\", flow=\"none\")\n",
    "heta_all.plot1d(label=\"all probes\", flow=\"none\")\n",
    "plt.xlim(-2.5, 2.5)\n",
    "plt.xlabel(r\"$\\eta$\")\n",
    "plt.ylabel(r\"Counts\")\n",
    "plt.legend()\n",
    "plt.savefig(\"plots/eta.pdf\", bbox_inches=\"tight\")\n",
    "hep.cms.label(\"Preliminary\", data=True, lumi=\"X\", year=2023, com=13.6)\n",
    "plt.show()"
   ]
  },
  {
   "cell_type": "code",
   "execution_count": null,
   "id": "cab6bb78-4741-4282-b639-4759a0737e79",
   "metadata": {},
   "outputs": [],
   "source": [
    "hphi_pass.plot1d(label=\"passing probes\", flow=\"none\")\n",
    "hphi_all.plot1d(label=\"all probes\", flow=\"none\")\n",
    "plt.xlim(-3.32, 3.32)\n",
    "plt.xlabel(r\"$\\phi$\")\n",
    "plt.ylabel(r\"Counts\")\n",
    "plt.legend()\n",
    "plt.savefig(\"plots/phi.pdf\", bbox_inches=\"tight\")\n",
    "hep.cms.label(\"Preliminary\", data=True, lumi=\"X\", year=2023, com=13.6)\n",
    "plt.show()"
   ]
  },
  {
   "cell_type": "code",
   "execution_count": null,
   "id": "cb9fb23e",
   "metadata": {},
   "outputs": [],
   "source": [
    "plot_efficiency(hpt_pass, hpt_all)\n",
    "hep.cms.label(\"Preliminary\", data=True, lumi=\"X\", year=2023, com=13.6)\n",
    "plt.xlim(5, 400)\n",
    "plt.ylim(0, 1.1)\n",
    "plt.xlabel(r\"$P_T$ [GeV]\")\n",
    "plt.ylabel(r\"Efficiency\")\n",
    "plt.xscale(\"log\")\n",
    "plt.savefig(\"plots/eff_pt.pdf\")\n",
    "plt.show()"
   ]
  },
  {
   "cell_type": "code",
   "execution_count": null,
   "id": "f2312110",
   "metadata": {
    "tags": []
   },
   "outputs": [],
   "source": [
    "plot_efficiency(heta_pass, heta_all)\n",
    "hep.cms.label(\"Preliminary\", data=True, lumi=\"X\", year=2023, com=13.6)\n",
    "plt.xlim(-2.5, 2.5)\n",
    "plt.ylim(0, 1.1)\n",
    "plt.xlabel(r\"$\\eta$\")\n",
    "plt.ylabel(r\"Efficiency\")\n",
    "plt.savefig(\"plots/eff_eta.pdf\")\n",
    "plt.show()"
   ]
  },
  {
   "cell_type": "code",
   "execution_count": null,
   "id": "c84c3460-df3c-4d56-890b-c2eb34082dbe",
   "metadata": {},
   "outputs": [],
   "source": [
    "plot_efficiency(hphi_pass, hphi_all)\n",
    "hep.cms.label(\"Preliminary\", data=True, lumi=\"X\", year=2023, com=13.6)\n",
    "plt.xlim(-3.32, 3.32)\n",
    "plt.ylim(0, 1.1)\n",
    "plt.xlabel(r\"$\\phi$\")\n",
    "plt.ylabel(r\"Efficiency\")\n",
    "plt.savefig(\"plots/eff_phi.pdf\")\n",
    "plt.show()"
   ]
  }
 ],
 "metadata": {
  "kernelspec": {
   "display_name": "Python 3 (ipykernel)",
   "language": "python",
   "name": "python3"
  },
  "language_info": {
   "codemirror_mode": {
    "name": "ipython",
    "version": 3
   },
   "file_extension": ".py",
   "mimetype": "text/x-python",
   "name": "python",
   "nbconvert_exporter": "python",
   "pygments_lexer": "ipython3",
   "version": "3.10.13"
  }
 },
 "nbformat": 4,
 "nbformat_minor": 5
}
